{
  "nbformat": 4,
  "nbformat_minor": 0,
  "metadata": {
    "colab": {
      "name": "category_features.ipynb",
      "provenance": []
    },
    "kernelspec": {
      "name": "python3",
      "display_name": "Python 3"
    },
    "language_info": {
      "name": "python"
    },
    "accelerator": "GPU"
  },
  "cells": [
    {
      "cell_type": "code",
      "metadata": {
        "id": "EmzV3HuE3sZg"
      },
      "source": [
        "import pandas as pd\n",
        "import numpy as np"
      ],
      "execution_count": 1,
      "outputs": []
    },
    {
      "cell_type": "code",
      "metadata": {
        "id": "zLNxWFYBJdPs"
      },
      "source": [
        "def get_cat_embeddings():\n",
        "  categories = pd.read_csv(\"categories.tsv\", sep=\"\\t\", header=None)\n",
        "  df = categories[1].str.split('.', expand=True)\n",
        "  new_df = df.groupby(categories[0]).agg(lambda x: set(x))\n",
        "\n",
        "  cats_1 = df[1].unique()\n",
        "  cats_1 = [a for a in cats_1 if a is not None]\n",
        "  cats_2 = df[2].unique()\n",
        "  cats_2 = [a for a in cats_2 if a is not None]\n",
        "  cats_3 = df[3].unique()\n",
        "  cats_3 = [a for a in cats_3 if a is not None]\n",
        "\n",
        "  def get_multi_hot(s, col):\n",
        "    if col == 1:\n",
        "      return [1 if c in s else 0 for c in cats_1]\n",
        "    if col == 2:\n",
        "      return [1 if c in s else 0 for c in cats_2]\n",
        "    if col == 3:\n",
        "      return [1 if c in s else 0 for c in cats_3]\n",
        "\n",
        "  new_df[1] = new_df[1].apply(get_multi_hot, args=[1])\n",
        "  new_df[2] = new_df[2].apply(get_multi_hot, args=[2])\n",
        "  new_df[3] = new_df[3].apply(get_multi_hot, args=[3])\n",
        "\n",
        "  new_df[0] = new_df[1] + new_df[2] + new_df[3]\n",
        "  del new_df[1]\n",
        "  del new_df[2]\n",
        "  del new_df[3]\n",
        "  return new_df"
      ],
      "execution_count": 6,
      "outputs": []
    },
    {
      "cell_type": "code",
      "metadata": {
        "id": "7Swlew_cKzQ2"
      },
      "source": [
        "df = get_cat_embeddings()\n",
        "# Embedding Size is 143"
      ],
      "execution_count": 7,
      "outputs": []
    },
    {
      "cell_type": "code",
      "metadata": {
        "colab": {
          "base_uri": "https://localhost:8080/",
          "height": 455
        },
        "id": "SSOUtp5oMfmw",
        "outputId": "b3f40897-ddec-408a-e0f3-1a3b5f518d14"
      },
      "source": [
        "df"
      ],
      "execution_count": 8,
      "outputs": [
        {
          "output_type": "execute_result",
          "data": {
            "text/html": [
              "<div>\n",
              "<style scoped>\n",
              "    .dataframe tbody tr th:only-of-type {\n",
              "        vertical-align: middle;\n",
              "    }\n",
              "\n",
              "    .dataframe tbody tr th {\n",
              "        vertical-align: top;\n",
              "    }\n",
              "\n",
              "    .dataframe thead th {\n",
              "        text-align: right;\n",
              "    }\n",
              "</style>\n",
              "<table border=\"1\" class=\"dataframe\">\n",
              "  <thead>\n",
              "    <tr style=\"text-align: right;\">\n",
              "      <th></th>\n",
              "      <th>0</th>\n",
              "    </tr>\n",
              "    <tr>\n",
              "      <th>0</th>\n",
              "      <th></th>\n",
              "    </tr>\n",
              "  </thead>\n",
              "  <tbody>\n",
              "    <tr>\n",
              "      <th>%C3%81ed%C3%A1n_mac_Gabr%C3%A1in</th>\n",
              "      <td>[1, 1, 0, 0, 0, 0, 0, 0, 0, 0, 0, 0, 0, 0, 0, ...</td>\n",
              "    </tr>\n",
              "    <tr>\n",
              "      <th>%C3%85land</th>\n",
              "      <td>[0, 0, 1, 1, 0, 0, 0, 0, 0, 0, 0, 0, 0, 0, 0, ...</td>\n",
              "    </tr>\n",
              "    <tr>\n",
              "      <th>%C3%89douard_Manet</th>\n",
              "      <td>[0, 1, 0, 0, 0, 0, 0, 0, 0, 0, 0, 0, 0, 0, 0, ...</td>\n",
              "    </tr>\n",
              "    <tr>\n",
              "      <th>%C3%89ire</th>\n",
              "      <td>[0, 0, 1, 1, 0, 0, 0, 0, 0, 0, 0, 0, 0, 0, 0, ...</td>\n",
              "    </tr>\n",
              "    <tr>\n",
              "      <th>%C3%93engus_I_of_the_Picts</th>\n",
              "      <td>[1, 1, 0, 0, 0, 0, 0, 0, 0, 0, 0, 0, 0, 0, 0, ...</td>\n",
              "    </tr>\n",
              "    <tr>\n",
              "      <th>...</th>\n",
              "      <td>...</td>\n",
              "    </tr>\n",
              "    <tr>\n",
              "      <th>Zionism</th>\n",
              "      <td>[0, 1, 0, 0, 0, 0, 0, 0, 0, 0, 0, 0, 1, 0, 0, ...</td>\n",
              "    </tr>\n",
              "    <tr>\n",
              "      <th>Zirconium</th>\n",
              "      <td>[0, 0, 0, 0, 0, 1, 0, 0, 0, 0, 0, 0, 0, 0, 0, ...</td>\n",
              "    </tr>\n",
              "    <tr>\n",
              "      <th>Zoroaster</th>\n",
              "      <td>[0, 1, 0, 0, 0, 0, 0, 0, 0, 0, 0, 0, 0, 0, 0, ...</td>\n",
              "    </tr>\n",
              "    <tr>\n",
              "      <th>Zuid-Gelders</th>\n",
              "      <td>[0, 0, 0, 1, 0, 0, 0, 0, 0, 0, 1, 0, 0, 0, 0, ...</td>\n",
              "    </tr>\n",
              "    <tr>\n",
              "      <th>Zulu</th>\n",
              "      <td>[0, 0, 0, 1, 0, 0, 0, 0, 0, 0, 0, 0, 0, 0, 0, ...</td>\n",
              "    </tr>\n",
              "  </tbody>\n",
              "</table>\n",
              "<p>4598 rows × 1 columns</p>\n",
              "</div>"
            ],
            "text/plain": [
              "                                                                                  0\n",
              "0                                                                                  \n",
              "%C3%81ed%C3%A1n_mac_Gabr%C3%A1in  [1, 1, 0, 0, 0, 0, 0, 0, 0, 0, 0, 0, 0, 0, 0, ...\n",
              "%C3%85land                        [0, 0, 1, 1, 0, 0, 0, 0, 0, 0, 0, 0, 0, 0, 0, ...\n",
              "%C3%89douard_Manet                [0, 1, 0, 0, 0, 0, 0, 0, 0, 0, 0, 0, 0, 0, 0, ...\n",
              "%C3%89ire                         [0, 0, 1, 1, 0, 0, 0, 0, 0, 0, 0, 0, 0, 0, 0, ...\n",
              "%C3%93engus_I_of_the_Picts        [1, 1, 0, 0, 0, 0, 0, 0, 0, 0, 0, 0, 0, 0, 0, ...\n",
              "...                                                                             ...\n",
              "Zionism                           [0, 1, 0, 0, 0, 0, 0, 0, 0, 0, 0, 0, 1, 0, 0, ...\n",
              "Zirconium                         [0, 0, 0, 0, 0, 1, 0, 0, 0, 0, 0, 0, 0, 0, 0, ...\n",
              "Zoroaster                         [0, 1, 0, 0, 0, 0, 0, 0, 0, 0, 0, 0, 0, 0, 0, ...\n",
              "Zuid-Gelders                      [0, 0, 0, 1, 0, 0, 0, 0, 0, 0, 1, 0, 0, 0, 0, ...\n",
              "Zulu                              [0, 0, 0, 1, 0, 0, 0, 0, 0, 0, 0, 0, 0, 0, 0, ...\n",
              "\n",
              "[4598 rows x 1 columns]"
            ]
          },
          "metadata": {},
          "execution_count": 8
        }
      ]
    },
    {
      "cell_type": "code",
      "metadata": {
        "id": "s7Q0kG9IMzR1"
      },
      "source": [
        ""
      ],
      "execution_count": null,
      "outputs": []
    }
  ]
}