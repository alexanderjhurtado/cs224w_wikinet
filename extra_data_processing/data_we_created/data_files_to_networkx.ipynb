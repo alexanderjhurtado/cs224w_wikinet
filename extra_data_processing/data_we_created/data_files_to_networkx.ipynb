{
  "nbformat": 4,
  "nbformat_minor": 0,
  "metadata": {
    "colab": {
      "name": "data_files_to_networkx.ipynb",
      "provenance": [],
      "collapsed_sections": [],
      "include_colab_link": true
    },
    "kernelspec": {
      "name": "python3",
      "display_name": "Python 3"
    },
    "language_info": {
      "name": "python"
    }
  },
  "cells": [
    {
      "cell_type": "markdown",
      "metadata": {
        "id": "view-in-github",
        "colab_type": "text"
      },
      "source": [
        "<a href=\"https://colab.research.google.com/github/alexanderjhurtado/cs224w_final/blob/main/data_files_to_networkx.ipynb\" target=\"_parent\"><img src=\"https://colab.research.google.com/assets/colab-badge.svg\" alt=\"Open In Colab\"/></a>"
      ]
    },
    {
      "cell_type": "code",
      "metadata": {
        "id": "taOuCY2T1FZu"
      },
      "source": [
        "!pip install torch-scatter -f https://data.pyg.org/whl/torch-1.10.0+cu111.html\n",
        "!pip install torch-sparse -f https://data.pyg.org/whl/torch-1.10.0+cu111.html\n",
        "!pip install torch-geometric\n",
        "!pip install -q git+https://github.com/snap-stanford/deepsnap.git\n",
        "!pip install -U -q PyDrive"
      ],
      "execution_count": null,
      "outputs": []
    },
    {
      "cell_type": "code",
      "metadata": {
        "id": "ZAIrpnlBqBIK"
      },
      "source": [
        "import pandas as pd\n",
        "import networkx as nx\n",
        "from torch_geometric.utils import from_networkx"
      ],
      "execution_count": 63,
      "outputs": []
    },
    {
      "cell_type": "code",
      "metadata": {
        "id": "G4a4IJHXsKUw"
      },
      "source": [
        "# read from dataframe into networkx\n",
        "def get_networkx_graph():\n",
        "  nodes = pd.read_csv(\"articles.tsv\", sep=\"\\t\", header=None)\n",
        "  edges = pd.read_csv(\"links.tsv\", sep=\"\\t\", header=None)\n",
        "  print(\"Node shape:\", nodes.shape)\n",
        "  print(\"Edge shape:\", edges.shape)\n",
        "  G = nx.DiGraph()\n",
        "  G.add_nodes_from(list(nodes[0]))\n",
        "  G.add_edges_from(list(edges.itertuples(index=False, name=None)))\n",
        "  return G"
      ],
      "execution_count": 51,
      "outputs": []
    },
    {
      "cell_type": "code",
      "metadata": {
        "colab": {
          "base_uri": "https://localhost:8080/"
        },
        "id": "eKG8Rtx8smRT",
        "outputId": "8b8f65fd-225a-490b-d3c5-c2cb018b6b36"
      },
      "source": [
        "G = get_networkx_graph()\n",
        "G = from_networkx(G)"
      ],
      "execution_count": 66,
      "outputs": [
        {
          "output_type": "stream",
          "name": "stdout",
          "text": [
            "Node shape: (4604, 1)\n",
            "Edge shape: (119882, 2)\n"
          ]
        }
      ]
    }
  ]
}